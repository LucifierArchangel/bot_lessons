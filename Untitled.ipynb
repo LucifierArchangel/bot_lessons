{
 "cells": [
  {
   "cell_type": "code",
   "execution_count": 42,
   "metadata": {},
   "outputs": [],
   "source": [
    "import json"
   ]
  },
  {
   "cell_type": "code",
   "execution_count": 45,
   "metadata": {},
   "outputs": [
    {
     "name": "stdout",
     "output_type": "stream",
     "text": [
      "{'id': 1, 'username': 'carlos_santana', 'user_id': 34573498578435}\n",
      "<class 'dict'>\n",
      "{\"id\": 1, \"username\": \"carlos_santana\", \"user_id\": 34573498578435}\n",
      "<class 'str'>\n"
     ]
    }
   ],
   "source": [
    "user = {\n",
    "    'id': 1,\n",
    "    'username': 'carlos_santana',\n",
    "    'user_id': 34573498578435\n",
    "}\n",
    "print(user)\n",
    "print(type(user))\n",
    "user = json.dumps(user)\n",
    "print(user)\n",
    "print(type(user))"
   ]
  },
  {
   "cell_type": "code",
   "execution_count": 49,
   "metadata": {},
   "outputs": [
    {
     "name": "stdout",
     "output_type": "stream",
     "text": [
      "True\n",
      "True True True\n"
     ]
    }
   ],
   "source": [
    "c = 1 == 1\n",
    "print(c)\n",
    "if c:\n",
    "    print(c, c, c)"
   ]
  },
  {
   "cell_type": "code",
   "execution_count": null,
   "metadata": {},
   "outputs": [],
   "source": []
  }
 ],
 "metadata": {
  "kernelspec": {
   "display_name": "Python 3",
   "language": "python",
   "name": "python3"
  },
  "language_info": {
   "codemirror_mode": {
    "name": "ipython",
    "version": 3
   },
   "file_extension": ".py",
   "mimetype": "text/x-python",
   "name": "python",
   "nbconvert_exporter": "python",
   "pygments_lexer": "ipython3",
   "version": "3.8.3"
  }
 },
 "nbformat": 4,
 "nbformat_minor": 4
}
